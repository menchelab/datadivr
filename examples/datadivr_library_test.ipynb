{
  "nbformat": 4,
  "nbformat_minor": 0,
  "metadata": {
    "colab": {
      "provenance": []
    },
    "kernelspec": {
      "name": "python3",
      "display_name": "Python 3"
    },
    "language_info": {
      "name": "python"
    }
  },
  "cells": [
    {
      "cell_type": "code",
      "execution_count": null,
      "metadata": {
        "id": "uj7sUFoOPmWx"
      },
      "outputs": [],
      "source": [
        "# 1. Install datadivr toolset\n",
        "!pip install datadivr\n"
      ]
    },
    {
      "cell_type": "code",
      "source": [
        "# 2. import datadivr tools\n",
        "from datadivr.calc import create_sample_data\n",
        "from datadivr.project.model import Project\n",
        "from datadivr.viz import visualize_project\n",
        "\n",
        "# 3. create a new project\n",
        "project = Project(name=\"Large Example Project\", attributes={\"description\": \"A sample project with 1M nodes\"})\n",
        "\n",
        "# 4. do your data processing and add it to the project\n",
        "#    here we just use a builtin tool to create a random data set\n",
        "#\n",
        "#.   (we are using numpy arrays for the bulk functions, TODO: networkx integration)\n",
        "data = create_sample_data(200, 10000, 2) # 200 nodes, 10k links, 2 layouts\n",
        "\n",
        "project.add_nodes_bulk(*data[:3])\n",
        "project.add_links_bulk(*data[5:])\n",
        "\n",
        "layout_names = [\"default\", \"alternate1\"]\n",
        "for name, positions, colors in zip(layout_names, data[3], data[4]):\n",
        "    project.add_layout_bulk(name, data[0], positions, colors)\n",
        "\n",
        "# 5. preview the data in a interactive 3d viz\n",
        "#    current limitations for the preview are about 500k-1M of total links/nodes\n",
        "visualize_project(project, \"alternate1\")\n",
        "\n",
        "\n"
      ],
      "metadata": {
        "id": "XYEQcp_qQBk2"
      },
      "execution_count": null,
      "outputs": []
    },
    {
      "cell_type": "code",
      "source": [
        "# 6. export all relevant data into single file\n",
        "project.save_to_json_file(\"example_project.json\")\n",
        "project.save_to_binary_file(\"example_project.npz\")\n",
        "\n",
        "# now you can open the sidebar and download the self contained project file\n",
        "# which then can be uploaded (TODO) to a already running datadivr server\n",
        "\n",
        "# or you can just run your own local server:\n",
        "#   the easiest way to run a server is using the CLI tools:\n",
        "\n",
        "# 7. run your own server:\n",
        "\n",
        "#   python -m datadivr.cli start-server\n",
        "#   (after running pip install datadivr)\n",
        "#\n",
        "# for more info: python -m datadivr.cli --help"
      ],
      "metadata": {
        "id": "75wQIGILRUm_"
      },
      "execution_count": null,
      "outputs": []
    },
    {
      "cell_type": "code",
      "source": [
        "# 8. alternative: starting the sever in jupyter notebook\n",
        "from datadivr.cli import start_server\n",
        "import nest_asyncio\n",
        "\n",
        "# ATTENTION: jupyter specific:\n",
        "#\n",
        "# This line patches the event loop to enable running asyncio within Jupyter\n",
        "# still this is only useful if you run the notebook locally since google\n",
        "# collab does not provide network routing to a server process' socket\n",
        "nest_asyncio.apply()\n",
        "\n",
        "start_server()\n",
        "\n",
        "# see the IP + port in the output and use it to connect with your VR etc client"
      ],
      "metadata": {
        "id": "E-kpC5r4QPXl"
      },
      "execution_count": null,
      "outputs": []
    }
  ]
}