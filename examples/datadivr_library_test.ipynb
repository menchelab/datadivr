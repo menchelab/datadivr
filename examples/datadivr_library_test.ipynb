{
 "cells": [
  {
   "cell_type": "code",
   "execution_count": 14,
   "metadata": {
    "id": "uj7sUFoOPmWx"
   },
   "outputs": [
    {
     "name": "stdout",
     "output_type": "stream",
     "text": [
      "Requirement already satisfied: nbformat in /Users/ph/.pyenv/versions/3.12.7/lib/python3.12/site-packages (5.10.4)\n",
      "Requirement already satisfied: fastjsonschema>=2.15 in /Users/ph/.pyenv/versions/3.12.7/lib/python3.12/site-packages (from nbformat) (2.20.0)\n",
      "Requirement already satisfied: jsonschema>=2.6 in /Users/ph/.pyenv/versions/3.12.7/lib/python3.12/site-packages (from nbformat) (4.23.0)\n",
      "Requirement already satisfied: jupyter-core!=5.0.*,>=4.12 in /Users/ph/.pyenv/versions/3.12.7/lib/python3.12/site-packages (from nbformat) (5.7.2)\n",
      "Requirement already satisfied: traitlets>=5.1 in /Users/ph/.pyenv/versions/3.12.7/lib/python3.12/site-packages (from nbformat) (5.14.3)\n",
      "Requirement already satisfied: attrs>=22.2.0 in /Users/ph/.pyenv/versions/3.12.7/lib/python3.12/site-packages (from jsonschema>=2.6->nbformat) (24.2.0)\n",
      "Requirement already satisfied: jsonschema-specifications>=2023.03.6 in /Users/ph/.pyenv/versions/3.12.7/lib/python3.12/site-packages (from jsonschema>=2.6->nbformat) (2024.10.1)\n",
      "Requirement already satisfied: referencing>=0.28.4 in /Users/ph/.pyenv/versions/3.12.7/lib/python3.12/site-packages (from jsonschema>=2.6->nbformat) (0.35.1)\n",
      "Requirement already satisfied: rpds-py>=0.7.1 in /Users/ph/.pyenv/versions/3.12.7/lib/python3.12/site-packages (from jsonschema>=2.6->nbformat) (0.21.0)\n",
      "Requirement already satisfied: platformdirs>=2.5 in /Users/ph/.pyenv/versions/3.12.7/lib/python3.12/site-packages (from jupyter-core!=5.0.*,>=4.12->nbformat) (4.3.6)\n"
     ]
    }
   ],
   "source": [
    "# 1. Install datadivr toolset\n",
    "!pip install  nbformat"
   ]
  },
  {
   "cell_type": "code",
   "execution_count": 12,
   "metadata": {},
   "outputs": [],
   "source": [
    "import numpy as np\n",
    "\n",
    "from datadivr.project.model import Project\n",
    "from datadivr.viz import visualize_project"
   ]
  },
  {
   "cell_type": "code",
   "execution_count": 13,
   "metadata": {
    "id": "XYEQcp_qQBk2"
   },
   "outputs": [],
   "source": [
    "def generate_cube_data():\n",
    "    # Create node IDs first\n",
    "    node_ids = np.arange(8, dtype=np.int32)  # Creates [0, 1, 2, 3, 4, 5, 6, 7]\n",
    "\n",
    "    # Create 8 corners of a cube in 3D space\n",
    "    cube_coords = np.array(\n",
    "        [\n",
    "            [0.1, 0.1, 0.1],  # 0: front bottom left\n",
    "            [0.9, 0.1, 0.1],  # 1: front bottom right\n",
    "            [0.1, 0.9, 0.1],  # 2: front top left\n",
    "            [0.9, 0.9, 0.1],  # 3: front top right\n",
    "            [0.1, 0.1, 0.9],  # 4: back bottom left\n",
    "            [0.9, 0.1, 0.9],  # 5: back bottom right\n",
    "            [0.1, 0.9, 0.9],  # 6: back top left\n",
    "            [0.9, 0.9, 0.9],  # 7: back top right\n",
    "        ],\n",
    "        dtype=np.float32,\n",
    "    )\n",
    "\n",
    "    # Generate colors for nodes\n",
    "    nodecol = np.column_stack([\n",
    "        np.full(len(cube_coords), 255),  # Red channel\n",
    "        (cube_coords[:, 2] * 255).astype(int),  # Green varies with z\n",
    "        (cube_coords[:, 1] * 255).astype(int),  # Blue varies with y\n",
    "        np.full(len(cube_coords), 255),  # Alpha channel\n",
    "    ]).astype(np.uint8)\n",
    "\n",
    "    # Define the links (edges of the cube)\n",
    "    linklist = np.array(\n",
    "        [\n",
    "            [0, 1],\n",
    "            [1, 3],\n",
    "            [3, 2],\n",
    "            [2, 0],  # Front face\n",
    "            [4, 5],\n",
    "            [5, 7],\n",
    "            [7, 6],\n",
    "            [6, 4],  # Back face\n",
    "            [0, 4],\n",
    "            [1, 5],\n",
    "            [2, 6],\n",
    "            [3, 7],  # Connecting edges\n",
    "        ],\n",
    "        dtype=np.int32,\n",
    "    )\n",
    "\n",
    "    # Generate colors for links\n",
    "    linkcol = np.column_stack([\n",
    "        np.random.randint(128, 256, len(linklist)),  # Red\n",
    "        np.random.randint(128, 256, len(linklist)),  # Green\n",
    "        np.random.randint(128, 256, len(linklist)),  # Blue\n",
    "        np.full(len(linklist), 255),  # Alpha\n",
    "    ]).astype(np.uint8)\n",
    "\n",
    "    # Node attributes\n",
    "    names = np.array([\n",
    "        \"front bottom left\",\n",
    "        \"front bottom right\",\n",
    "        \"front top left\",\n",
    "        \"front top right\",\n",
    "        \"back bottom left\",\n",
    "        \"back bottom right\",\n",
    "        \"back top left\",\n",
    "        \"back top right\",\n",
    "    ])\n",
    "\n",
    "    return node_ids, cube_coords, nodecol, linklist, linkcol, names"
   ]
  },
  {
   "cell_type": "code",
   "execution_count": 14,
   "metadata": {
    "id": "75wQIGILRUm_"
   },
   "outputs": [],
   "source": [
    "project = Project(name=\"Cube Example Project\", attributes={\"description\": \"A sample project showing a cube\"})\n",
    "\n",
    "# Generate cube data\n",
    "ids, coords, node_colors, links, link_colors, names = generate_cube_data()\n",
    "\n",
    "project.add_nodes_bulk(\n",
    "    ids=ids,\n",
    "    attributes={\n",
    "        \"name\": names,\n",
    "        # lets add another example attribute\n",
    "        \"avg_position\": coords.mean(axis=1),  # Calculate average of x,y,z coordinates\n",
    "    },\n",
    ")\n",
    "\n",
    "project.add_links_bulk(links[:, 0], links[:, 1], link_colors)\n",
    "project.add_layout_bulk(\"default\", ids, coords, node_colors)"
   ]
  },
  {
   "cell_type": "code",
   "execution_count": 15,
   "metadata": {
    "id": "E-kpC5r4QPXl"
   },
   "outputs": [
    {
     "name": "stdout",
     "output_type": "stream",
     "text": [
      "\u001b[2m2024-12-20 15:57:16\u001b[0m [\u001b[32m\u001b[1mdebug    \u001b[0m] \u001b[1mSaving project                \u001b[0m \u001b[36mfile_path\u001b[0m=\u001b[35mtmp/cube_project.json\u001b[0m\n",
      "\u001b[2m2024-12-20 15:57:16\u001b[0m [\u001b[32m\u001b[1minfo     \u001b[0m] \u001b[1mProject saved successfully    \u001b[0m \u001b[36mproject_name\u001b[0m=\u001b[35mCube Example Project\u001b[0m\n",
      "\u001b[2m2024-12-20 15:57:16\u001b[0m [\u001b[32m\u001b[1mdebug    \u001b[0m] \u001b[1mSaving project in binary format\u001b[0m \u001b[36mfile_path\u001b[0m=\u001b[35mtmp/cube_project.npz\u001b[0m\n",
      "\u001b[2m2024-12-20 15:57:16\u001b[0m [\u001b[32m\u001b[1minfo     \u001b[0m] \u001b[1mProject saved successfully in binary format\u001b[0m \u001b[36mproject_name\u001b[0m=\u001b[35mCube Example Project\u001b[0m\n"
     ]
    }
   ],
   "source": [
    "# Save project\n",
    "project.save_to_json_file(\"tmp/cube_project.json\")\n",
    "project.save_to_binary_file(\"tmp/cube_project.npz\")"
   ]
  },
  {
   "cell_type": "code",
   "execution_count": 7,
   "metadata": {},
   "outputs": [
    {
     "data": {
      "application/vnd.plotly.v1+json": {
       "config": {
        "displayModeBar": true,
        "doubleClick": "reset+autosize",
        "modeBarButtonsToAdd": [
         "resetCamera"
        ],
        "modeBarButtonsToRemove": [
         "resetCameraDefault",
         "resetCameraLastSave",
         "hoverClosest3d"
        ],
        "plotlyServerURL": "https://plot.ly",
        "responsive": false,
        "scrollZoom": true
       },
       "data": [
        {
         "customdata": [
          0,
          1,
          2,
          3,
          4,
          5,
          6,
          7
         ],
         "hoverinfo": "text",
         "hoverlabel": {
          "align": "left",
          "bgcolor": "rgba(0,0,0,0.8)",
          "font": {
           "size": 12
          }
         },
         "marker": {
          "color": [
           "rgb(255,25,25)",
           "rgb(255,25,25)",
           "rgb(255,25,229)",
           "rgb(255,25,229)",
           "rgb(255,229,25)",
           "rgb(255,229,25)",
           "rgb(255,229,229)",
           "rgb(255,229,229)"
          ],
          "line": {
           "width": 0
          },
          "opacity": 0.5,
          "size": 8,
          "sizemode": "diameter"
         },
         "mode": "markers",
         "name": "Nodes",
         "text": [
          "Node ID: 0<br>X: 0.10<br>Y: 0.10<br>Z: 0.10<br>Incoming Links: 1<br>Outgoing Links: 2<br>avg_position: 0.10<br>name: front bottom left",
          "Node ID: 1<br>X: 0.90<br>Y: 0.10<br>Z: 0.10<br>Incoming Links: 1<br>Outgoing Links: 2<br>avg_position: 0.37<br>name: front bottom right",
          "Node ID: 2<br>X: 0.10<br>Y: 0.90<br>Z: 0.10<br>Incoming Links: 1<br>Outgoing Links: 2<br>avg_position: 0.37<br>name: front top left",
          "Node ID: 3<br>X: 0.90<br>Y: 0.90<br>Z: 0.10<br>Incoming Links: 1<br>Outgoing Links: 2<br>avg_position: 0.63<br>name: front top right",
          "Node ID: 4<br>X: 0.10<br>Y: 0.10<br>Z: 0.90<br>Incoming Links: 2<br>Outgoing Links: 1<br>avg_position: 0.37<br>name: back bottom left",
          "Node ID: 5<br>X: 0.90<br>Y: 0.10<br>Z: 0.90<br>Incoming Links: 2<br>Outgoing Links: 1<br>avg_position: 0.63<br>name: back bottom right",
          "Node ID: 6<br>X: 0.10<br>Y: 0.90<br>Z: 0.90<br>Incoming Links: 2<br>Outgoing Links: 1<br>avg_position: 0.63<br>name: back top left",
          "Node ID: 7<br>X: 0.90<br>Y: 0.90<br>Z: 0.90<br>Incoming Links: 2<br>Outgoing Links: 1<br>avg_position: 0.90<br>name: back top right"
         ],
         "type": "scatter3d",
         "visible": true,
         "x": [
          0.1,
          0.9,
          0.1,
          0.9,
          0.1,
          0.9,
          0.1,
          0.9
         ],
         "y": [
          0.1,
          0.1,
          0.9,
          0.9,
          0.1,
          0.1,
          0.9,
          0.9
         ],
         "z": [
          0.1,
          0.1,
          0.1,
          0.1,
          0.9,
          0.9,
          0.9,
          0.9
         ]
        },
        {
         "hoverinfo": "none",
         "line": {
          "color": [
           "rgba(244,137,185,0.5604395604395604)",
           "rgba(177,199,156,0.5604395604395604)",
           "rgba(234,171,156,0.5604395604395604)",
           "rgba(200,195,132,0.5604395604395604)",
           "rgba(230,230,147,0.5604395604395604)",
           "rgba(250,238,155,0.5604395604395604)",
           "rgba(162,154,128,0.5604395604395604)",
           "rgba(162,200,240,0.5604395604395604)",
           "rgba(222,136,238,0.5604395604395604)",
           "rgba(146,184,153,0.5604395604395604)",
           "rgba(251,164,185,0.5604395604395604)",
           "rgba(160,134,156,0.5604395604395604)"
          ],
          "width": 1
         },
         "mode": "lines",
         "name": "Links",
         "type": "scatter3d",
         "x": [
          0.10000000149011612,
          0.8999999761581421,
          null,
          0.8999999761581421,
          0.8999999761581421,
          null,
          0.8999999761581421,
          0.10000000149011612,
          null,
          0.10000000149011612,
          0.10000000149011612,
          null,
          0.10000000149011612,
          0.8999999761581421,
          null,
          0.8999999761581421,
          0.8999999761581421,
          null,
          0.8999999761581421,
          0.10000000149011612,
          null,
          0.10000000149011612,
          0.10000000149011612,
          null,
          0.10000000149011612,
          0.10000000149011612,
          null,
          0.8999999761581421,
          0.8999999761581421,
          null,
          0.10000000149011612,
          0.10000000149011612,
          null,
          0.8999999761581421,
          0.8999999761581421,
          null
         ],
         "y": [
          0.10000000149011612,
          0.10000000149011612,
          null,
          0.10000000149011612,
          0.8999999761581421,
          null,
          0.8999999761581421,
          0.8999999761581421,
          null,
          0.8999999761581421,
          0.10000000149011612,
          null,
          0.10000000149011612,
          0.10000000149011612,
          null,
          0.10000000149011612,
          0.8999999761581421,
          null,
          0.8999999761581421,
          0.8999999761581421,
          null,
          0.8999999761581421,
          0.10000000149011612,
          null,
          0.10000000149011612,
          0.10000000149011612,
          null,
          0.10000000149011612,
          0.10000000149011612,
          null,
          0.8999999761581421,
          0.8999999761581421,
          null,
          0.8999999761581421,
          0.8999999761581421,
          null
         ],
         "z": [
          0.10000000149011612,
          0.10000000149011612,
          null,
          0.10000000149011612,
          0.10000000149011612,
          null,
          0.10000000149011612,
          0.10000000149011612,
          null,
          0.10000000149011612,
          0.10000000149011612,
          null,
          0.8999999761581421,
          0.8999999761581421,
          null,
          0.8999999761581421,
          0.8999999761581421,
          null,
          0.8999999761581421,
          0.8999999761581421,
          null,
          0.8999999761581421,
          0.8999999761581421,
          null,
          0.10000000149011612,
          0.8999999761581421,
          null,
          0.10000000149011612,
          0.8999999761581421,
          null,
          0.10000000149011612,
          0.8999999761581421,
          null,
          0.10000000149011612,
          0.8999999761581421,
          null
         ]
        }
       ],
       "layout": {
        "margin": {
         "b": 0,
         "l": 0,
         "r": 0,
         "t": 0
        },
        "scene": {
         "aspectmode": "data",
         "camera": {
          "center": {
           "x": 0,
           "y": 0,
           "z": 0
          },
          "eye": {
           "x": 1.5,
           "y": 1.5,
           "z": 1.5
          },
          "up": {
           "x": 0,
           "y": 0,
           "z": 1
          }
         },
         "dragmode": "orbit",
         "xaxis": {
          "autorange": true,
          "showspikes": false
         },
         "yaxis": {
          "autorange": true,
          "showspikes": false
         },
         "zaxis": {
          "autorange": true,
          "showspikes": false
         }
        },
        "showlegend": false,
        "template": {
         "data": {
          "bar": [
           {
            "error_x": {
             "color": "#f2f5fa"
            },
            "error_y": {
             "color": "#f2f5fa"
            },
            "marker": {
             "line": {
              "color": "rgb(17,17,17)",
              "width": 0.5
             },
             "pattern": {
              "fillmode": "overlay",
              "size": 10,
              "solidity": 0.2
             }
            },
            "type": "bar"
           }
          ],
          "barpolar": [
           {
            "marker": {
             "line": {
              "color": "rgb(17,17,17)",
              "width": 0.5
             },
             "pattern": {
              "fillmode": "overlay",
              "size": 10,
              "solidity": 0.2
             }
            },
            "type": "barpolar"
           }
          ],
          "carpet": [
           {
            "aaxis": {
             "endlinecolor": "#A2B1C6",
             "gridcolor": "#506784",
             "linecolor": "#506784",
             "minorgridcolor": "#506784",
             "startlinecolor": "#A2B1C6"
            },
            "baxis": {
             "endlinecolor": "#A2B1C6",
             "gridcolor": "#506784",
             "linecolor": "#506784",
             "minorgridcolor": "#506784",
             "startlinecolor": "#A2B1C6"
            },
            "type": "carpet"
           }
          ],
          "choropleth": [
           {
            "colorbar": {
             "outlinewidth": 0,
             "ticks": ""
            },
            "type": "choropleth"
           }
          ],
          "contour": [
           {
            "colorbar": {
             "outlinewidth": 0,
             "ticks": ""
            },
            "colorscale": [
             [
              0,
              "#0d0887"
             ],
             [
              0.1111111111111111,
              "#46039f"
             ],
             [
              0.2222222222222222,
              "#7201a8"
             ],
             [
              0.3333333333333333,
              "#9c179e"
             ],
             [
              0.4444444444444444,
              "#bd3786"
             ],
             [
              0.5555555555555556,
              "#d8576b"
             ],
             [
              0.6666666666666666,
              "#ed7953"
             ],
             [
              0.7777777777777778,
              "#fb9f3a"
             ],
             [
              0.8888888888888888,
              "#fdca26"
             ],
             [
              1,
              "#f0f921"
             ]
            ],
            "type": "contour"
           }
          ],
          "contourcarpet": [
           {
            "colorbar": {
             "outlinewidth": 0,
             "ticks": ""
            },
            "type": "contourcarpet"
           }
          ],
          "heatmap": [
           {
            "colorbar": {
             "outlinewidth": 0,
             "ticks": ""
            },
            "colorscale": [
             [
              0,
              "#0d0887"
             ],
             [
              0.1111111111111111,
              "#46039f"
             ],
             [
              0.2222222222222222,
              "#7201a8"
             ],
             [
              0.3333333333333333,
              "#9c179e"
             ],
             [
              0.4444444444444444,
              "#bd3786"
             ],
             [
              0.5555555555555556,
              "#d8576b"
             ],
             [
              0.6666666666666666,
              "#ed7953"
             ],
             [
              0.7777777777777778,
              "#fb9f3a"
             ],
             [
              0.8888888888888888,
              "#fdca26"
             ],
             [
              1,
              "#f0f921"
             ]
            ],
            "type": "heatmap"
           }
          ],
          "heatmapgl": [
           {
            "colorbar": {
             "outlinewidth": 0,
             "ticks": ""
            },
            "colorscale": [
             [
              0,
              "#0d0887"
             ],
             [
              0.1111111111111111,
              "#46039f"
             ],
             [
              0.2222222222222222,
              "#7201a8"
             ],
             [
              0.3333333333333333,
              "#9c179e"
             ],
             [
              0.4444444444444444,
              "#bd3786"
             ],
             [
              0.5555555555555556,
              "#d8576b"
             ],
             [
              0.6666666666666666,
              "#ed7953"
             ],
             [
              0.7777777777777778,
              "#fb9f3a"
             ],
             [
              0.8888888888888888,
              "#fdca26"
             ],
             [
              1,
              "#f0f921"
             ]
            ],
            "type": "heatmapgl"
           }
          ],
          "histogram": [
           {
            "marker": {
             "pattern": {
              "fillmode": "overlay",
              "size": 10,
              "solidity": 0.2
             }
            },
            "type": "histogram"
           }
          ],
          "histogram2d": [
           {
            "colorbar": {
             "outlinewidth": 0,
             "ticks": ""
            },
            "colorscale": [
             [
              0,
              "#0d0887"
             ],
             [
              0.1111111111111111,
              "#46039f"
             ],
             [
              0.2222222222222222,
              "#7201a8"
             ],
             [
              0.3333333333333333,
              "#9c179e"
             ],
             [
              0.4444444444444444,
              "#bd3786"
             ],
             [
              0.5555555555555556,
              "#d8576b"
             ],
             [
              0.6666666666666666,
              "#ed7953"
             ],
             [
              0.7777777777777778,
              "#fb9f3a"
             ],
             [
              0.8888888888888888,
              "#fdca26"
             ],
             [
              1,
              "#f0f921"
             ]
            ],
            "type": "histogram2d"
           }
          ],
          "histogram2dcontour": [
           {
            "colorbar": {
             "outlinewidth": 0,
             "ticks": ""
            },
            "colorscale": [
             [
              0,
              "#0d0887"
             ],
             [
              0.1111111111111111,
              "#46039f"
             ],
             [
              0.2222222222222222,
              "#7201a8"
             ],
             [
              0.3333333333333333,
              "#9c179e"
             ],
             [
              0.4444444444444444,
              "#bd3786"
             ],
             [
              0.5555555555555556,
              "#d8576b"
             ],
             [
              0.6666666666666666,
              "#ed7953"
             ],
             [
              0.7777777777777778,
              "#fb9f3a"
             ],
             [
              0.8888888888888888,
              "#fdca26"
             ],
             [
              1,
              "#f0f921"
             ]
            ],
            "type": "histogram2dcontour"
           }
          ],
          "mesh3d": [
           {
            "colorbar": {
             "outlinewidth": 0,
             "ticks": ""
            },
            "type": "mesh3d"
           }
          ],
          "parcoords": [
           {
            "line": {
             "colorbar": {
              "outlinewidth": 0,
              "ticks": ""
             }
            },
            "type": "parcoords"
           }
          ],
          "pie": [
           {
            "automargin": true,
            "type": "pie"
           }
          ],
          "scatter": [
           {
            "marker": {
             "line": {
              "color": "#283442"
             }
            },
            "type": "scatter"
           }
          ],
          "scatter3d": [
           {
            "line": {
             "colorbar": {
              "outlinewidth": 0,
              "ticks": ""
             }
            },
            "marker": {
             "colorbar": {
              "outlinewidth": 0,
              "ticks": ""
             }
            },
            "type": "scatter3d"
           }
          ],
          "scattercarpet": [
           {
            "marker": {
             "colorbar": {
              "outlinewidth": 0,
              "ticks": ""
             }
            },
            "type": "scattercarpet"
           }
          ],
          "scattergeo": [
           {
            "marker": {
             "colorbar": {
              "outlinewidth": 0,
              "ticks": ""
             }
            },
            "type": "scattergeo"
           }
          ],
          "scattergl": [
           {
            "marker": {
             "line": {
              "color": "#283442"
             }
            },
            "type": "scattergl"
           }
          ],
          "scattermapbox": [
           {
            "marker": {
             "colorbar": {
              "outlinewidth": 0,
              "ticks": ""
             }
            },
            "type": "scattermapbox"
           }
          ],
          "scatterpolar": [
           {
            "marker": {
             "colorbar": {
              "outlinewidth": 0,
              "ticks": ""
             }
            },
            "type": "scatterpolar"
           }
          ],
          "scatterpolargl": [
           {
            "marker": {
             "colorbar": {
              "outlinewidth": 0,
              "ticks": ""
             }
            },
            "type": "scatterpolargl"
           }
          ],
          "scatterternary": [
           {
            "marker": {
             "colorbar": {
              "outlinewidth": 0,
              "ticks": ""
             }
            },
            "type": "scatterternary"
           }
          ],
          "surface": [
           {
            "colorbar": {
             "outlinewidth": 0,
             "ticks": ""
            },
            "colorscale": [
             [
              0,
              "#0d0887"
             ],
             [
              0.1111111111111111,
              "#46039f"
             ],
             [
              0.2222222222222222,
              "#7201a8"
             ],
             [
              0.3333333333333333,
              "#9c179e"
             ],
             [
              0.4444444444444444,
              "#bd3786"
             ],
             [
              0.5555555555555556,
              "#d8576b"
             ],
             [
              0.6666666666666666,
              "#ed7953"
             ],
             [
              0.7777777777777778,
              "#fb9f3a"
             ],
             [
              0.8888888888888888,
              "#fdca26"
             ],
             [
              1,
              "#f0f921"
             ]
            ],
            "type": "surface"
           }
          ],
          "table": [
           {
            "cells": {
             "fill": {
              "color": "#506784"
             },
             "line": {
              "color": "rgb(17,17,17)"
             }
            },
            "header": {
             "fill": {
              "color": "#2a3f5f"
             },
             "line": {
              "color": "rgb(17,17,17)"
             }
            },
            "type": "table"
           }
          ]
         },
         "layout": {
          "annotationdefaults": {
           "arrowcolor": "#f2f5fa",
           "arrowhead": 0,
           "arrowwidth": 1
          },
          "autotypenumbers": "strict",
          "coloraxis": {
           "colorbar": {
            "outlinewidth": 0,
            "ticks": ""
           }
          },
          "colorscale": {
           "diverging": [
            [
             0,
             "#8e0152"
            ],
            [
             0.1,
             "#c51b7d"
            ],
            [
             0.2,
             "#de77ae"
            ],
            [
             0.3,
             "#f1b6da"
            ],
            [
             0.4,
             "#fde0ef"
            ],
            [
             0.5,
             "#f7f7f7"
            ],
            [
             0.6,
             "#e6f5d0"
            ],
            [
             0.7,
             "#b8e186"
            ],
            [
             0.8,
             "#7fbc41"
            ],
            [
             0.9,
             "#4d9221"
            ],
            [
             1,
             "#276419"
            ]
           ],
           "sequential": [
            [
             0,
             "#0d0887"
            ],
            [
             0.1111111111111111,
             "#46039f"
            ],
            [
             0.2222222222222222,
             "#7201a8"
            ],
            [
             0.3333333333333333,
             "#9c179e"
            ],
            [
             0.4444444444444444,
             "#bd3786"
            ],
            [
             0.5555555555555556,
             "#d8576b"
            ],
            [
             0.6666666666666666,
             "#ed7953"
            ],
            [
             0.7777777777777778,
             "#fb9f3a"
            ],
            [
             0.8888888888888888,
             "#fdca26"
            ],
            [
             1,
             "#f0f921"
            ]
           ],
           "sequentialminus": [
            [
             0,
             "#0d0887"
            ],
            [
             0.1111111111111111,
             "#46039f"
            ],
            [
             0.2222222222222222,
             "#7201a8"
            ],
            [
             0.3333333333333333,
             "#9c179e"
            ],
            [
             0.4444444444444444,
             "#bd3786"
            ],
            [
             0.5555555555555556,
             "#d8576b"
            ],
            [
             0.6666666666666666,
             "#ed7953"
            ],
            [
             0.7777777777777778,
             "#fb9f3a"
            ],
            [
             0.8888888888888888,
             "#fdca26"
            ],
            [
             1,
             "#f0f921"
            ]
           ]
          },
          "colorway": [
           "#636efa",
           "#EF553B",
           "#00cc96",
           "#ab63fa",
           "#FFA15A",
           "#19d3f3",
           "#FF6692",
           "#B6E880",
           "#FF97FF",
           "#FECB52"
          ],
          "font": {
           "color": "#f2f5fa"
          },
          "geo": {
           "bgcolor": "rgb(17,17,17)",
           "lakecolor": "rgb(17,17,17)",
           "landcolor": "rgb(17,17,17)",
           "showlakes": true,
           "showland": true,
           "subunitcolor": "#506784"
          },
          "hoverlabel": {
           "align": "left"
          },
          "hovermode": "closest",
          "mapbox": {
           "style": "dark"
          },
          "paper_bgcolor": "rgb(17,17,17)",
          "plot_bgcolor": "rgb(17,17,17)",
          "polar": {
           "angularaxis": {
            "gridcolor": "#506784",
            "linecolor": "#506784",
            "ticks": ""
           },
           "bgcolor": "rgb(17,17,17)",
           "radialaxis": {
            "gridcolor": "#506784",
            "linecolor": "#506784",
            "ticks": ""
           }
          },
          "scene": {
           "xaxis": {
            "backgroundcolor": "rgb(17,17,17)",
            "gridcolor": "#506784",
            "gridwidth": 2,
            "linecolor": "#506784",
            "showbackground": true,
            "ticks": "",
            "zerolinecolor": "#C8D4E3"
           },
           "yaxis": {
            "backgroundcolor": "rgb(17,17,17)",
            "gridcolor": "#506784",
            "gridwidth": 2,
            "linecolor": "#506784",
            "showbackground": true,
            "ticks": "",
            "zerolinecolor": "#C8D4E3"
           },
           "zaxis": {
            "backgroundcolor": "rgb(17,17,17)",
            "gridcolor": "#506784",
            "gridwidth": 2,
            "linecolor": "#506784",
            "showbackground": true,
            "ticks": "",
            "zerolinecolor": "#C8D4E3"
           }
          },
          "shapedefaults": {
           "line": {
            "color": "#f2f5fa"
           }
          },
          "sliderdefaults": {
           "bgcolor": "#C8D4E3",
           "bordercolor": "rgb(17,17,17)",
           "borderwidth": 1,
           "tickwidth": 0
          },
          "ternary": {
           "aaxis": {
            "gridcolor": "#506784",
            "linecolor": "#506784",
            "ticks": ""
           },
           "baxis": {
            "gridcolor": "#506784",
            "linecolor": "#506784",
            "ticks": ""
           },
           "bgcolor": "rgb(17,17,17)",
           "caxis": {
            "gridcolor": "#506784",
            "linecolor": "#506784",
            "ticks": ""
           }
          },
          "title": {
           "x": 0.05
          },
          "updatemenudefaults": {
           "bgcolor": "#506784",
           "borderwidth": 0
          },
          "xaxis": {
           "automargin": true,
           "gridcolor": "#283442",
           "linecolor": "#506784",
           "ticks": "",
           "title": {
            "standoff": 15
           },
           "zerolinecolor": "#283442",
           "zerolinewidth": 2
          },
          "yaxis": {
           "automargin": true,
           "gridcolor": "#283442",
           "linecolor": "#506784",
           "ticks": "",
           "title": {
            "standoff": 15
           },
           "zerolinecolor": "#283442",
           "zerolinewidth": 2
          }
         }
        },
        "uirevision": true
       }
      }
     },
     "metadata": {},
     "output_type": "display_data"
    }
   ],
   "source": [
    "visualize_project(project, \"default\")"
   ]
  },
  {
   "cell_type": "code",
   "execution_count": 17,
   "metadata": {},
   "outputs": [
    {
     "name": "stdout",
     "output_type": "stream",
     "text": [
      "\u001b[2m2024-12-20 15:58:17\u001b[0m [\u001b[32m\u001b[1mdebug    \u001b[0m] \u001b[1mLoading project               \u001b[0m \u001b[36mfile_path\u001b[0m=\u001b[35mtmp/cube_project.json\u001b[0m\n",
      "\u001b[2m2024-12-20 15:58:17\u001b[0m [\u001b[32m\u001b[1minfo     \u001b[0m] \u001b[1mProject loaded successfully   \u001b[0m \u001b[36mproject_name\u001b[0m=\u001b[35mCube Example Project\u001b[0m\n"
     ]
    },
    {
     "data": {
      "application/vnd.plotly.v1+json": {
       "config": {
        "displayModeBar": true,
        "doubleClick": "reset+autosize",
        "modeBarButtonsToAdd": [
         "resetCamera"
        ],
        "modeBarButtonsToRemove": [
         "resetCameraDefault",
         "resetCameraLastSave",
         "hoverClosest3d"
        ],
        "plotlyServerURL": "https://plot.ly",
        "responsive": false,
        "scrollZoom": true
       },
       "data": [
        {
         "customdata": [
          0,
          1,
          2,
          3,
          4,
          5,
          6,
          7
         ],
         "hoverinfo": "text",
         "hoverlabel": {
          "align": "left",
          "bgcolor": "rgba(0,0,0,0.8)",
          "font": {
           "size": 12
          }
         },
         "marker": {
          "color": [
           "rgb(255,25,25)",
           "rgb(255,25,25)",
           "rgb(255,25,229)",
           "rgb(255,25,229)",
           "rgb(255,229,25)",
           "rgb(255,229,25)",
           "rgb(255,229,229)",
           "rgb(255,229,229)"
          ],
          "line": {
           "width": 0
          },
          "opacity": 0.5,
          "size": 8,
          "sizemode": "diameter"
         },
         "mode": "markers",
         "name": "Nodes",
         "text": [
          "Node ID: 0<br>X: 0.10<br>Y: 0.10<br>Z: 0.10<br>Incoming Links: 1<br>Outgoing Links: 2<br>avg_position: 0.10<br>name: front bottom left",
          "Node ID: 1<br>X: 0.90<br>Y: 0.10<br>Z: 0.10<br>Incoming Links: 1<br>Outgoing Links: 2<br>avg_position: 0.37<br>name: front bottom right",
          "Node ID: 2<br>X: 0.10<br>Y: 0.90<br>Z: 0.10<br>Incoming Links: 1<br>Outgoing Links: 2<br>avg_position: 0.37<br>name: front top left",
          "Node ID: 3<br>X: 0.90<br>Y: 0.90<br>Z: 0.10<br>Incoming Links: 1<br>Outgoing Links: 2<br>avg_position: 0.63<br>name: front top right",
          "Node ID: 4<br>X: 0.10<br>Y: 0.10<br>Z: 0.90<br>Incoming Links: 2<br>Outgoing Links: 1<br>avg_position: 0.37<br>name: back bottom left",
          "Node ID: 5<br>X: 0.90<br>Y: 0.10<br>Z: 0.90<br>Incoming Links: 2<br>Outgoing Links: 1<br>avg_position: 0.63<br>name: back bottom right",
          "Node ID: 6<br>X: 0.10<br>Y: 0.90<br>Z: 0.90<br>Incoming Links: 2<br>Outgoing Links: 1<br>avg_position: 0.63<br>name: back top left",
          "Node ID: 7<br>X: 0.90<br>Y: 0.90<br>Z: 0.90<br>Incoming Links: 2<br>Outgoing Links: 1<br>avg_position: 0.90<br>name: back top right"
         ],
         "type": "scatter3d",
         "visible": true,
         "x": [
          0.1,
          0.9,
          0.1,
          0.9,
          0.1,
          0.9,
          0.1,
          0.9
         ],
         "y": [
          0.1,
          0.1,
          0.9,
          0.9,
          0.1,
          0.1,
          0.9,
          0.9
         ],
         "z": [
          0.1,
          0.1,
          0.1,
          0.1,
          0.9,
          0.9,
          0.9,
          0.9
         ]
        },
        {
         "hoverinfo": "none",
         "line": {
          "color": [
           "rgba(212,210,172,0.5604395604395604)",
           "rgba(248,176,239,0.5604395604395604)",
           "rgba(128,172,169,0.5604395604395604)",
           "rgba(156,160,254,0.5604395604395604)",
           "rgba(185,194,166,0.5604395604395604)",
           "rgba(249,187,203,0.5604395604395604)",
           "rgba(165,201,245,0.5604395604395604)",
           "rgba(155,188,150,0.5604395604395604)",
           "rgba(232,219,255,0.5604395604395604)",
           "rgba(253,217,181,0.5604395604395604)",
           "rgba(157,155,240,0.5604395604395604)",
           "rgba(181,165,174,0.5604395604395604)"
          ],
          "width": 1
         },
         "mode": "lines",
         "name": "Links",
         "type": "scatter3d",
         "x": [
          0.10000000149011612,
          0.8999999761581421,
          null,
          0.8999999761581421,
          0.8999999761581421,
          null,
          0.8999999761581421,
          0.10000000149011612,
          null,
          0.10000000149011612,
          0.10000000149011612,
          null,
          0.10000000149011612,
          0.8999999761581421,
          null,
          0.8999999761581421,
          0.8999999761581421,
          null,
          0.8999999761581421,
          0.10000000149011612,
          null,
          0.10000000149011612,
          0.10000000149011612,
          null,
          0.10000000149011612,
          0.10000000149011612,
          null,
          0.8999999761581421,
          0.8999999761581421,
          null,
          0.10000000149011612,
          0.10000000149011612,
          null,
          0.8999999761581421,
          0.8999999761581421,
          null
         ],
         "y": [
          0.10000000149011612,
          0.10000000149011612,
          null,
          0.10000000149011612,
          0.8999999761581421,
          null,
          0.8999999761581421,
          0.8999999761581421,
          null,
          0.8999999761581421,
          0.10000000149011612,
          null,
          0.10000000149011612,
          0.10000000149011612,
          null,
          0.10000000149011612,
          0.8999999761581421,
          null,
          0.8999999761581421,
          0.8999999761581421,
          null,
          0.8999999761581421,
          0.10000000149011612,
          null,
          0.10000000149011612,
          0.10000000149011612,
          null,
          0.10000000149011612,
          0.10000000149011612,
          null,
          0.8999999761581421,
          0.8999999761581421,
          null,
          0.8999999761581421,
          0.8999999761581421,
          null
         ],
         "z": [
          0.10000000149011612,
          0.10000000149011612,
          null,
          0.10000000149011612,
          0.10000000149011612,
          null,
          0.10000000149011612,
          0.10000000149011612,
          null,
          0.10000000149011612,
          0.10000000149011612,
          null,
          0.8999999761581421,
          0.8999999761581421,
          null,
          0.8999999761581421,
          0.8999999761581421,
          null,
          0.8999999761581421,
          0.8999999761581421,
          null,
          0.8999999761581421,
          0.8999999761581421,
          null,
          0.10000000149011612,
          0.8999999761581421,
          null,
          0.10000000149011612,
          0.8999999761581421,
          null,
          0.10000000149011612,
          0.8999999761581421,
          null,
          0.10000000149011612,
          0.8999999761581421,
          null
         ]
        }
       ],
       "layout": {
        "margin": {
         "b": 0,
         "l": 0,
         "r": 0,
         "t": 0
        },
        "scene": {
         "aspectmode": "data",
         "camera": {
          "center": {
           "x": 0,
           "y": 0,
           "z": 0
          },
          "eye": {
           "x": 1.5,
           "y": 1.5,
           "z": 1.5
          },
          "up": {
           "x": 0,
           "y": 0,
           "z": 1
          }
         },
         "dragmode": "orbit",
         "xaxis": {
          "autorange": true,
          "showspikes": false
         },
         "yaxis": {
          "autorange": true,
          "showspikes": false
         },
         "zaxis": {
          "autorange": true,
          "showspikes": false
         }
        },
        "showlegend": false,
        "template": {
         "data": {
          "bar": [
           {
            "error_x": {
             "color": "#f2f5fa"
            },
            "error_y": {
             "color": "#f2f5fa"
            },
            "marker": {
             "line": {
              "color": "rgb(17,17,17)",
              "width": 0.5
             },
             "pattern": {
              "fillmode": "overlay",
              "size": 10,
              "solidity": 0.2
             }
            },
            "type": "bar"
           }
          ],
          "barpolar": [
           {
            "marker": {
             "line": {
              "color": "rgb(17,17,17)",
              "width": 0.5
             },
             "pattern": {
              "fillmode": "overlay",
              "size": 10,
              "solidity": 0.2
             }
            },
            "type": "barpolar"
           }
          ],
          "carpet": [
           {
            "aaxis": {
             "endlinecolor": "#A2B1C6",
             "gridcolor": "#506784",
             "linecolor": "#506784",
             "minorgridcolor": "#506784",
             "startlinecolor": "#A2B1C6"
            },
            "baxis": {
             "endlinecolor": "#A2B1C6",
             "gridcolor": "#506784",
             "linecolor": "#506784",
             "minorgridcolor": "#506784",
             "startlinecolor": "#A2B1C6"
            },
            "type": "carpet"
           }
          ],
          "choropleth": [
           {
            "colorbar": {
             "outlinewidth": 0,
             "ticks": ""
            },
            "type": "choropleth"
           }
          ],
          "contour": [
           {
            "colorbar": {
             "outlinewidth": 0,
             "ticks": ""
            },
            "colorscale": [
             [
              0,
              "#0d0887"
             ],
             [
              0.1111111111111111,
              "#46039f"
             ],
             [
              0.2222222222222222,
              "#7201a8"
             ],
             [
              0.3333333333333333,
              "#9c179e"
             ],
             [
              0.4444444444444444,
              "#bd3786"
             ],
             [
              0.5555555555555556,
              "#d8576b"
             ],
             [
              0.6666666666666666,
              "#ed7953"
             ],
             [
              0.7777777777777778,
              "#fb9f3a"
             ],
             [
              0.8888888888888888,
              "#fdca26"
             ],
             [
              1,
              "#f0f921"
             ]
            ],
            "type": "contour"
           }
          ],
          "contourcarpet": [
           {
            "colorbar": {
             "outlinewidth": 0,
             "ticks": ""
            },
            "type": "contourcarpet"
           }
          ],
          "heatmap": [
           {
            "colorbar": {
             "outlinewidth": 0,
             "ticks": ""
            },
            "colorscale": [
             [
              0,
              "#0d0887"
             ],
             [
              0.1111111111111111,
              "#46039f"
             ],
             [
              0.2222222222222222,
              "#7201a8"
             ],
             [
              0.3333333333333333,
              "#9c179e"
             ],
             [
              0.4444444444444444,
              "#bd3786"
             ],
             [
              0.5555555555555556,
              "#d8576b"
             ],
             [
              0.6666666666666666,
              "#ed7953"
             ],
             [
              0.7777777777777778,
              "#fb9f3a"
             ],
             [
              0.8888888888888888,
              "#fdca26"
             ],
             [
              1,
              "#f0f921"
             ]
            ],
            "type": "heatmap"
           }
          ],
          "heatmapgl": [
           {
            "colorbar": {
             "outlinewidth": 0,
             "ticks": ""
            },
            "colorscale": [
             [
              0,
              "#0d0887"
             ],
             [
              0.1111111111111111,
              "#46039f"
             ],
             [
              0.2222222222222222,
              "#7201a8"
             ],
             [
              0.3333333333333333,
              "#9c179e"
             ],
             [
              0.4444444444444444,
              "#bd3786"
             ],
             [
              0.5555555555555556,
              "#d8576b"
             ],
             [
              0.6666666666666666,
              "#ed7953"
             ],
             [
              0.7777777777777778,
              "#fb9f3a"
             ],
             [
              0.8888888888888888,
              "#fdca26"
             ],
             [
              1,
              "#f0f921"
             ]
            ],
            "type": "heatmapgl"
           }
          ],
          "histogram": [
           {
            "marker": {
             "pattern": {
              "fillmode": "overlay",
              "size": 10,
              "solidity": 0.2
             }
            },
            "type": "histogram"
           }
          ],
          "histogram2d": [
           {
            "colorbar": {
             "outlinewidth": 0,
             "ticks": ""
            },
            "colorscale": [
             [
              0,
              "#0d0887"
             ],
             [
              0.1111111111111111,
              "#46039f"
             ],
             [
              0.2222222222222222,
              "#7201a8"
             ],
             [
              0.3333333333333333,
              "#9c179e"
             ],
             [
              0.4444444444444444,
              "#bd3786"
             ],
             [
              0.5555555555555556,
              "#d8576b"
             ],
             [
              0.6666666666666666,
              "#ed7953"
             ],
             [
              0.7777777777777778,
              "#fb9f3a"
             ],
             [
              0.8888888888888888,
              "#fdca26"
             ],
             [
              1,
              "#f0f921"
             ]
            ],
            "type": "histogram2d"
           }
          ],
          "histogram2dcontour": [
           {
            "colorbar": {
             "outlinewidth": 0,
             "ticks": ""
            },
            "colorscale": [
             [
              0,
              "#0d0887"
             ],
             [
              0.1111111111111111,
              "#46039f"
             ],
             [
              0.2222222222222222,
              "#7201a8"
             ],
             [
              0.3333333333333333,
              "#9c179e"
             ],
             [
              0.4444444444444444,
              "#bd3786"
             ],
             [
              0.5555555555555556,
              "#d8576b"
             ],
             [
              0.6666666666666666,
              "#ed7953"
             ],
             [
              0.7777777777777778,
              "#fb9f3a"
             ],
             [
              0.8888888888888888,
              "#fdca26"
             ],
             [
              1,
              "#f0f921"
             ]
            ],
            "type": "histogram2dcontour"
           }
          ],
          "mesh3d": [
           {
            "colorbar": {
             "outlinewidth": 0,
             "ticks": ""
            },
            "type": "mesh3d"
           }
          ],
          "parcoords": [
           {
            "line": {
             "colorbar": {
              "outlinewidth": 0,
              "ticks": ""
             }
            },
            "type": "parcoords"
           }
          ],
          "pie": [
           {
            "automargin": true,
            "type": "pie"
           }
          ],
          "scatter": [
           {
            "marker": {
             "line": {
              "color": "#283442"
             }
            },
            "type": "scatter"
           }
          ],
          "scatter3d": [
           {
            "line": {
             "colorbar": {
              "outlinewidth": 0,
              "ticks": ""
             }
            },
            "marker": {
             "colorbar": {
              "outlinewidth": 0,
              "ticks": ""
             }
            },
            "type": "scatter3d"
           }
          ],
          "scattercarpet": [
           {
            "marker": {
             "colorbar": {
              "outlinewidth": 0,
              "ticks": ""
             }
            },
            "type": "scattercarpet"
           }
          ],
          "scattergeo": [
           {
            "marker": {
             "colorbar": {
              "outlinewidth": 0,
              "ticks": ""
             }
            },
            "type": "scattergeo"
           }
          ],
          "scattergl": [
           {
            "marker": {
             "line": {
              "color": "#283442"
             }
            },
            "type": "scattergl"
           }
          ],
          "scattermapbox": [
           {
            "marker": {
             "colorbar": {
              "outlinewidth": 0,
              "ticks": ""
             }
            },
            "type": "scattermapbox"
           }
          ],
          "scatterpolar": [
           {
            "marker": {
             "colorbar": {
              "outlinewidth": 0,
              "ticks": ""
             }
            },
            "type": "scatterpolar"
           }
          ],
          "scatterpolargl": [
           {
            "marker": {
             "colorbar": {
              "outlinewidth": 0,
              "ticks": ""
             }
            },
            "type": "scatterpolargl"
           }
          ],
          "scatterternary": [
           {
            "marker": {
             "colorbar": {
              "outlinewidth": 0,
              "ticks": ""
             }
            },
            "type": "scatterternary"
           }
          ],
          "surface": [
           {
            "colorbar": {
             "outlinewidth": 0,
             "ticks": ""
            },
            "colorscale": [
             [
              0,
              "#0d0887"
             ],
             [
              0.1111111111111111,
              "#46039f"
             ],
             [
              0.2222222222222222,
              "#7201a8"
             ],
             [
              0.3333333333333333,
              "#9c179e"
             ],
             [
              0.4444444444444444,
              "#bd3786"
             ],
             [
              0.5555555555555556,
              "#d8576b"
             ],
             [
              0.6666666666666666,
              "#ed7953"
             ],
             [
              0.7777777777777778,
              "#fb9f3a"
             ],
             [
              0.8888888888888888,
              "#fdca26"
             ],
             [
              1,
              "#f0f921"
             ]
            ],
            "type": "surface"
           }
          ],
          "table": [
           {
            "cells": {
             "fill": {
              "color": "#506784"
             },
             "line": {
              "color": "rgb(17,17,17)"
             }
            },
            "header": {
             "fill": {
              "color": "#2a3f5f"
             },
             "line": {
              "color": "rgb(17,17,17)"
             }
            },
            "type": "table"
           }
          ]
         },
         "layout": {
          "annotationdefaults": {
           "arrowcolor": "#f2f5fa",
           "arrowhead": 0,
           "arrowwidth": 1
          },
          "autotypenumbers": "strict",
          "coloraxis": {
           "colorbar": {
            "outlinewidth": 0,
            "ticks": ""
           }
          },
          "colorscale": {
           "diverging": [
            [
             0,
             "#8e0152"
            ],
            [
             0.1,
             "#c51b7d"
            ],
            [
             0.2,
             "#de77ae"
            ],
            [
             0.3,
             "#f1b6da"
            ],
            [
             0.4,
             "#fde0ef"
            ],
            [
             0.5,
             "#f7f7f7"
            ],
            [
             0.6,
             "#e6f5d0"
            ],
            [
             0.7,
             "#b8e186"
            ],
            [
             0.8,
             "#7fbc41"
            ],
            [
             0.9,
             "#4d9221"
            ],
            [
             1,
             "#276419"
            ]
           ],
           "sequential": [
            [
             0,
             "#0d0887"
            ],
            [
             0.1111111111111111,
             "#46039f"
            ],
            [
             0.2222222222222222,
             "#7201a8"
            ],
            [
             0.3333333333333333,
             "#9c179e"
            ],
            [
             0.4444444444444444,
             "#bd3786"
            ],
            [
             0.5555555555555556,
             "#d8576b"
            ],
            [
             0.6666666666666666,
             "#ed7953"
            ],
            [
             0.7777777777777778,
             "#fb9f3a"
            ],
            [
             0.8888888888888888,
             "#fdca26"
            ],
            [
             1,
             "#f0f921"
            ]
           ],
           "sequentialminus": [
            [
             0,
             "#0d0887"
            ],
            [
             0.1111111111111111,
             "#46039f"
            ],
            [
             0.2222222222222222,
             "#7201a8"
            ],
            [
             0.3333333333333333,
             "#9c179e"
            ],
            [
             0.4444444444444444,
             "#bd3786"
            ],
            [
             0.5555555555555556,
             "#d8576b"
            ],
            [
             0.6666666666666666,
             "#ed7953"
            ],
            [
             0.7777777777777778,
             "#fb9f3a"
            ],
            [
             0.8888888888888888,
             "#fdca26"
            ],
            [
             1,
             "#f0f921"
            ]
           ]
          },
          "colorway": [
           "#636efa",
           "#EF553B",
           "#00cc96",
           "#ab63fa",
           "#FFA15A",
           "#19d3f3",
           "#FF6692",
           "#B6E880",
           "#FF97FF",
           "#FECB52"
          ],
          "font": {
           "color": "#f2f5fa"
          },
          "geo": {
           "bgcolor": "rgb(17,17,17)",
           "lakecolor": "rgb(17,17,17)",
           "landcolor": "rgb(17,17,17)",
           "showlakes": true,
           "showland": true,
           "subunitcolor": "#506784"
          },
          "hoverlabel": {
           "align": "left"
          },
          "hovermode": "closest",
          "mapbox": {
           "style": "dark"
          },
          "paper_bgcolor": "rgb(17,17,17)",
          "plot_bgcolor": "rgb(17,17,17)",
          "polar": {
           "angularaxis": {
            "gridcolor": "#506784",
            "linecolor": "#506784",
            "ticks": ""
           },
           "bgcolor": "rgb(17,17,17)",
           "radialaxis": {
            "gridcolor": "#506784",
            "linecolor": "#506784",
            "ticks": ""
           }
          },
          "scene": {
           "xaxis": {
            "backgroundcolor": "rgb(17,17,17)",
            "gridcolor": "#506784",
            "gridwidth": 2,
            "linecolor": "#506784",
            "showbackground": true,
            "ticks": "",
            "zerolinecolor": "#C8D4E3"
           },
           "yaxis": {
            "backgroundcolor": "rgb(17,17,17)",
            "gridcolor": "#506784",
            "gridwidth": 2,
            "linecolor": "#506784",
            "showbackground": true,
            "ticks": "",
            "zerolinecolor": "#C8D4E3"
           },
           "zaxis": {
            "backgroundcolor": "rgb(17,17,17)",
            "gridcolor": "#506784",
            "gridwidth": 2,
            "linecolor": "#506784",
            "showbackground": true,
            "ticks": "",
            "zerolinecolor": "#C8D4E3"
           }
          },
          "shapedefaults": {
           "line": {
            "color": "#f2f5fa"
           }
          },
          "sliderdefaults": {
           "bgcolor": "#C8D4E3",
           "bordercolor": "rgb(17,17,17)",
           "borderwidth": 1,
           "tickwidth": 0
          },
          "ternary": {
           "aaxis": {
            "gridcolor": "#506784",
            "linecolor": "#506784",
            "ticks": ""
           },
           "baxis": {
            "gridcolor": "#506784",
            "linecolor": "#506784",
            "ticks": ""
           },
           "bgcolor": "rgb(17,17,17)",
           "caxis": {
            "gridcolor": "#506784",
            "linecolor": "#506784",
            "ticks": ""
           }
          },
          "title": {
           "x": 0.05
          },
          "updatemenudefaults": {
           "bgcolor": "#506784",
           "borderwidth": 0
          },
          "xaxis": {
           "automargin": true,
           "gridcolor": "#283442",
           "linecolor": "#506784",
           "ticks": "",
           "title": {
            "standoff": 15
           },
           "zerolinecolor": "#283442",
           "zerolinewidth": 2
          },
          "yaxis": {
           "automargin": true,
           "gridcolor": "#283442",
           "linecolor": "#506784",
           "ticks": "",
           "title": {
            "standoff": 15
           },
           "zerolinecolor": "#283442",
           "zerolinewidth": 2
          }
         }
        },
        "uirevision": true
       }
      }
     },
     "metadata": {},
     "output_type": "display_data"
    }
   ],
   "source": [
    "# test file loading json\n",
    "# loaded = Project.load_from_json_file(\"tmp/cube_project.json\")\n",
    "\n",
    "# visualize_project(loaded, \"default\")"
   ]
  },
  {
   "cell_type": "code",
   "execution_count": 11,
   "metadata": {},
   "outputs": [
    {
     "name": "stdout",
     "output_type": "stream",
     "text": [
      "\u001b[2m2024-12-20 15:52:44\u001b[0m [\u001b[32m\u001b[1mdebug    \u001b[0m] \u001b[1mLoading project from binary format\u001b[0m \u001b[36mfile_path\u001b[0m=\u001b[35mtmp/cube_project.npz\u001b[0m\n"
     ]
    },
    {
     "data": {
      "application/vnd.plotly.v1+json": {
       "config": {
        "displayModeBar": true,
        "doubleClick": "reset+autosize",
        "modeBarButtonsToAdd": [
         "resetCamera"
        ],
        "modeBarButtonsToRemove": [
         "resetCameraDefault",
         "resetCameraLastSave",
         "hoverClosest3d"
        ],
        "plotlyServerURL": "https://plot.ly",
        "responsive": false,
        "scrollZoom": true
       },
       "data": [
        {
         "customdata": [
          0,
          1,
          2,
          3,
          4,
          5,
          6,
          7
         ],
         "hoverinfo": "text",
         "hoverlabel": {
          "align": "left",
          "bgcolor": "rgba(0,0,0,0.8)",
          "font": {
           "size": 12
          }
         },
         "marker": {
          "color": [
           "rgb(255,25,25)",
           "rgb(255,25,25)",
           "rgb(255,25,229)",
           "rgb(255,25,229)",
           "rgb(255,229,25)",
           "rgb(255,229,25)",
           "rgb(255,229,229)",
           "rgb(255,229,229)"
          ],
          "line": {
           "width": 0
          },
          "opacity": 0.5,
          "size": 8,
          "sizemode": "diameter"
         },
         "mode": "markers",
         "name": "Nodes",
         "text": [
          "Node ID: 0<br>X: 0.10<br>Y: 0.10<br>Z: 0.10<br>Incoming Links: 1<br>Outgoing Links: 2<br>avg_position: 0.10<br>name: front bottom left",
          "Node ID: 1<br>X: 0.90<br>Y: 0.10<br>Z: 0.10<br>Incoming Links: 1<br>Outgoing Links: 2<br>avg_position: 0.37<br>name: front bottom right",
          "Node ID: 2<br>X: 0.10<br>Y: 0.90<br>Z: 0.10<br>Incoming Links: 1<br>Outgoing Links: 2<br>avg_position: 0.37<br>name: front top left",
          "Node ID: 3<br>X: 0.90<br>Y: 0.90<br>Z: 0.10<br>Incoming Links: 1<br>Outgoing Links: 2<br>avg_position: 0.63<br>name: front top right",
          "Node ID: 4<br>X: 0.10<br>Y: 0.10<br>Z: 0.90<br>Incoming Links: 2<br>Outgoing Links: 1<br>avg_position: 0.37<br>name: back bottom left",
          "Node ID: 5<br>X: 0.90<br>Y: 0.10<br>Z: 0.90<br>Incoming Links: 2<br>Outgoing Links: 1<br>avg_position: 0.63<br>name: back bottom right",
          "Node ID: 6<br>X: 0.10<br>Y: 0.90<br>Z: 0.90<br>Incoming Links: 2<br>Outgoing Links: 1<br>avg_position: 0.63<br>name: back top left",
          "Node ID: 7<br>X: 0.90<br>Y: 0.90<br>Z: 0.90<br>Incoming Links: 2<br>Outgoing Links: 1<br>avg_position: 0.90<br>name: back top right"
         ],
         "type": "scatter3d",
         "visible": true,
         "x": [
          0.1,
          0.9,
          0.1,
          0.9,
          0.1,
          0.9,
          0.1,
          0.9
         ],
         "y": [
          0.1,
          0.1,
          0.9,
          0.9,
          0.1,
          0.1,
          0.9,
          0.9
         ],
         "z": [
          0.1,
          0.1,
          0.1,
          0.1,
          0.9,
          0.9,
          0.9,
          0.9
         ]
        },
        {
         "hoverinfo": "none",
         "line": {
          "color": [
           "rgba(244,137,185,0.5604395604395604)",
           "rgba(177,199,156,0.5604395604395604)",
           "rgba(234,171,156,0.5604395604395604)",
           "rgba(200,195,132,0.5604395604395604)",
           "rgba(230,230,147,0.5604395604395604)",
           "rgba(250,238,155,0.5604395604395604)",
           "rgba(162,154,128,0.5604395604395604)",
           "rgba(162,200,240,0.5604395604395604)",
           "rgba(222,136,238,0.5604395604395604)",
           "rgba(146,184,153,0.5604395604395604)",
           "rgba(251,164,185,0.5604395604395604)",
           "rgba(160,134,156,0.5604395604395604)"
          ],
          "width": 1
         },
         "mode": "lines",
         "name": "Links",
         "type": "scatter3d",
         "x": [
          0.10000000149011612,
          0.8999999761581421,
          null,
          0.8999999761581421,
          0.8999999761581421,
          null,
          0.8999999761581421,
          0.10000000149011612,
          null,
          0.10000000149011612,
          0.10000000149011612,
          null,
          0.10000000149011612,
          0.8999999761581421,
          null,
          0.8999999761581421,
          0.8999999761581421,
          null,
          0.8999999761581421,
          0.10000000149011612,
          null,
          0.10000000149011612,
          0.10000000149011612,
          null,
          0.10000000149011612,
          0.10000000149011612,
          null,
          0.8999999761581421,
          0.8999999761581421,
          null,
          0.10000000149011612,
          0.10000000149011612,
          null,
          0.8999999761581421,
          0.8999999761581421,
          null
         ],
         "y": [
          0.10000000149011612,
          0.10000000149011612,
          null,
          0.10000000149011612,
          0.8999999761581421,
          null,
          0.8999999761581421,
          0.8999999761581421,
          null,
          0.8999999761581421,
          0.10000000149011612,
          null,
          0.10000000149011612,
          0.10000000149011612,
          null,
          0.10000000149011612,
          0.8999999761581421,
          null,
          0.8999999761581421,
          0.8999999761581421,
          null,
          0.8999999761581421,
          0.10000000149011612,
          null,
          0.10000000149011612,
          0.10000000149011612,
          null,
          0.10000000149011612,
          0.10000000149011612,
          null,
          0.8999999761581421,
          0.8999999761581421,
          null,
          0.8999999761581421,
          0.8999999761581421,
          null
         ],
         "z": [
          0.10000000149011612,
          0.10000000149011612,
          null,
          0.10000000149011612,
          0.10000000149011612,
          null,
          0.10000000149011612,
          0.10000000149011612,
          null,
          0.10000000149011612,
          0.10000000149011612,
          null,
          0.8999999761581421,
          0.8999999761581421,
          null,
          0.8999999761581421,
          0.8999999761581421,
          null,
          0.8999999761581421,
          0.8999999761581421,
          null,
          0.8999999761581421,
          0.8999999761581421,
          null,
          0.10000000149011612,
          0.8999999761581421,
          null,
          0.10000000149011612,
          0.8999999761581421,
          null,
          0.10000000149011612,
          0.8999999761581421,
          null,
          0.10000000149011612,
          0.8999999761581421,
          null
         ]
        }
       ],
       "layout": {
        "margin": {
         "b": 0,
         "l": 0,
         "r": 0,
         "t": 0
        },
        "scene": {
         "aspectmode": "data",
         "camera": {
          "center": {
           "x": 0,
           "y": 0,
           "z": 0
          },
          "eye": {
           "x": 1.5,
           "y": 1.5,
           "z": 1.5
          },
          "up": {
           "x": 0,
           "y": 0,
           "z": 1
          }
         },
         "dragmode": "orbit",
         "xaxis": {
          "autorange": true,
          "showspikes": false
         },
         "yaxis": {
          "autorange": true,
          "showspikes": false
         },
         "zaxis": {
          "autorange": true,
          "showspikes": false
         }
        },
        "showlegend": false,
        "template": {
         "data": {
          "bar": [
           {
            "error_x": {
             "color": "#f2f5fa"
            },
            "error_y": {
             "color": "#f2f5fa"
            },
            "marker": {
             "line": {
              "color": "rgb(17,17,17)",
              "width": 0.5
             },
             "pattern": {
              "fillmode": "overlay",
              "size": 10,
              "solidity": 0.2
             }
            },
            "type": "bar"
           }
          ],
          "barpolar": [
           {
            "marker": {
             "line": {
              "color": "rgb(17,17,17)",
              "width": 0.5
             },
             "pattern": {
              "fillmode": "overlay",
              "size": 10,
              "solidity": 0.2
             }
            },
            "type": "barpolar"
           }
          ],
          "carpet": [
           {
            "aaxis": {
             "endlinecolor": "#A2B1C6",
             "gridcolor": "#506784",
             "linecolor": "#506784",
             "minorgridcolor": "#506784",
             "startlinecolor": "#A2B1C6"
            },
            "baxis": {
             "endlinecolor": "#A2B1C6",
             "gridcolor": "#506784",
             "linecolor": "#506784",
             "minorgridcolor": "#506784",
             "startlinecolor": "#A2B1C6"
            },
            "type": "carpet"
           }
          ],
          "choropleth": [
           {
            "colorbar": {
             "outlinewidth": 0,
             "ticks": ""
            },
            "type": "choropleth"
           }
          ],
          "contour": [
           {
            "colorbar": {
             "outlinewidth": 0,
             "ticks": ""
            },
            "colorscale": [
             [
              0,
              "#0d0887"
             ],
             [
              0.1111111111111111,
              "#46039f"
             ],
             [
              0.2222222222222222,
              "#7201a8"
             ],
             [
              0.3333333333333333,
              "#9c179e"
             ],
             [
              0.4444444444444444,
              "#bd3786"
             ],
             [
              0.5555555555555556,
              "#d8576b"
             ],
             [
              0.6666666666666666,
              "#ed7953"
             ],
             [
              0.7777777777777778,
              "#fb9f3a"
             ],
             [
              0.8888888888888888,
              "#fdca26"
             ],
             [
              1,
              "#f0f921"
             ]
            ],
            "type": "contour"
           }
          ],
          "contourcarpet": [
           {
            "colorbar": {
             "outlinewidth": 0,
             "ticks": ""
            },
            "type": "contourcarpet"
           }
          ],
          "heatmap": [
           {
            "colorbar": {
             "outlinewidth": 0,
             "ticks": ""
            },
            "colorscale": [
             [
              0,
              "#0d0887"
             ],
             [
              0.1111111111111111,
              "#46039f"
             ],
             [
              0.2222222222222222,
              "#7201a8"
             ],
             [
              0.3333333333333333,
              "#9c179e"
             ],
             [
              0.4444444444444444,
              "#bd3786"
             ],
             [
              0.5555555555555556,
              "#d8576b"
             ],
             [
              0.6666666666666666,
              "#ed7953"
             ],
             [
              0.7777777777777778,
              "#fb9f3a"
             ],
             [
              0.8888888888888888,
              "#fdca26"
             ],
             [
              1,
              "#f0f921"
             ]
            ],
            "type": "heatmap"
           }
          ],
          "heatmapgl": [
           {
            "colorbar": {
             "outlinewidth": 0,
             "ticks": ""
            },
            "colorscale": [
             [
              0,
              "#0d0887"
             ],
             [
              0.1111111111111111,
              "#46039f"
             ],
             [
              0.2222222222222222,
              "#7201a8"
             ],
             [
              0.3333333333333333,
              "#9c179e"
             ],
             [
              0.4444444444444444,
              "#bd3786"
             ],
             [
              0.5555555555555556,
              "#d8576b"
             ],
             [
              0.6666666666666666,
              "#ed7953"
             ],
             [
              0.7777777777777778,
              "#fb9f3a"
             ],
             [
              0.8888888888888888,
              "#fdca26"
             ],
             [
              1,
              "#f0f921"
             ]
            ],
            "type": "heatmapgl"
           }
          ],
          "histogram": [
           {
            "marker": {
             "pattern": {
              "fillmode": "overlay",
              "size": 10,
              "solidity": 0.2
             }
            },
            "type": "histogram"
           }
          ],
          "histogram2d": [
           {
            "colorbar": {
             "outlinewidth": 0,
             "ticks": ""
            },
            "colorscale": [
             [
              0,
              "#0d0887"
             ],
             [
              0.1111111111111111,
              "#46039f"
             ],
             [
              0.2222222222222222,
              "#7201a8"
             ],
             [
              0.3333333333333333,
              "#9c179e"
             ],
             [
              0.4444444444444444,
              "#bd3786"
             ],
             [
              0.5555555555555556,
              "#d8576b"
             ],
             [
              0.6666666666666666,
              "#ed7953"
             ],
             [
              0.7777777777777778,
              "#fb9f3a"
             ],
             [
              0.8888888888888888,
              "#fdca26"
             ],
             [
              1,
              "#f0f921"
             ]
            ],
            "type": "histogram2d"
           }
          ],
          "histogram2dcontour": [
           {
            "colorbar": {
             "outlinewidth": 0,
             "ticks": ""
            },
            "colorscale": [
             [
              0,
              "#0d0887"
             ],
             [
              0.1111111111111111,
              "#46039f"
             ],
             [
              0.2222222222222222,
              "#7201a8"
             ],
             [
              0.3333333333333333,
              "#9c179e"
             ],
             [
              0.4444444444444444,
              "#bd3786"
             ],
             [
              0.5555555555555556,
              "#d8576b"
             ],
             [
              0.6666666666666666,
              "#ed7953"
             ],
             [
              0.7777777777777778,
              "#fb9f3a"
             ],
             [
              0.8888888888888888,
              "#fdca26"
             ],
             [
              1,
              "#f0f921"
             ]
            ],
            "type": "histogram2dcontour"
           }
          ],
          "mesh3d": [
           {
            "colorbar": {
             "outlinewidth": 0,
             "ticks": ""
            },
            "type": "mesh3d"
           }
          ],
          "parcoords": [
           {
            "line": {
             "colorbar": {
              "outlinewidth": 0,
              "ticks": ""
             }
            },
            "type": "parcoords"
           }
          ],
          "pie": [
           {
            "automargin": true,
            "type": "pie"
           }
          ],
          "scatter": [
           {
            "marker": {
             "line": {
              "color": "#283442"
             }
            },
            "type": "scatter"
           }
          ],
          "scatter3d": [
           {
            "line": {
             "colorbar": {
              "outlinewidth": 0,
              "ticks": ""
             }
            },
            "marker": {
             "colorbar": {
              "outlinewidth": 0,
              "ticks": ""
             }
            },
            "type": "scatter3d"
           }
          ],
          "scattercarpet": [
           {
            "marker": {
             "colorbar": {
              "outlinewidth": 0,
              "ticks": ""
             }
            },
            "type": "scattercarpet"
           }
          ],
          "scattergeo": [
           {
            "marker": {
             "colorbar": {
              "outlinewidth": 0,
              "ticks": ""
             }
            },
            "type": "scattergeo"
           }
          ],
          "scattergl": [
           {
            "marker": {
             "line": {
              "color": "#283442"
             }
            },
            "type": "scattergl"
           }
          ],
          "scattermapbox": [
           {
            "marker": {
             "colorbar": {
              "outlinewidth": 0,
              "ticks": ""
             }
            },
            "type": "scattermapbox"
           }
          ],
          "scatterpolar": [
           {
            "marker": {
             "colorbar": {
              "outlinewidth": 0,
              "ticks": ""
             }
            },
            "type": "scatterpolar"
           }
          ],
          "scatterpolargl": [
           {
            "marker": {
             "colorbar": {
              "outlinewidth": 0,
              "ticks": ""
             }
            },
            "type": "scatterpolargl"
           }
          ],
          "scatterternary": [
           {
            "marker": {
             "colorbar": {
              "outlinewidth": 0,
              "ticks": ""
             }
            },
            "type": "scatterternary"
           }
          ],
          "surface": [
           {
            "colorbar": {
             "outlinewidth": 0,
             "ticks": ""
            },
            "colorscale": [
             [
              0,
              "#0d0887"
             ],
             [
              0.1111111111111111,
              "#46039f"
             ],
             [
              0.2222222222222222,
              "#7201a8"
             ],
             [
              0.3333333333333333,
              "#9c179e"
             ],
             [
              0.4444444444444444,
              "#bd3786"
             ],
             [
              0.5555555555555556,
              "#d8576b"
             ],
             [
              0.6666666666666666,
              "#ed7953"
             ],
             [
              0.7777777777777778,
              "#fb9f3a"
             ],
             [
              0.8888888888888888,
              "#fdca26"
             ],
             [
              1,
              "#f0f921"
             ]
            ],
            "type": "surface"
           }
          ],
          "table": [
           {
            "cells": {
             "fill": {
              "color": "#506784"
             },
             "line": {
              "color": "rgb(17,17,17)"
             }
            },
            "header": {
             "fill": {
              "color": "#2a3f5f"
             },
             "line": {
              "color": "rgb(17,17,17)"
             }
            },
            "type": "table"
           }
          ]
         },
         "layout": {
          "annotationdefaults": {
           "arrowcolor": "#f2f5fa",
           "arrowhead": 0,
           "arrowwidth": 1
          },
          "autotypenumbers": "strict",
          "coloraxis": {
           "colorbar": {
            "outlinewidth": 0,
            "ticks": ""
           }
          },
          "colorscale": {
           "diverging": [
            [
             0,
             "#8e0152"
            ],
            [
             0.1,
             "#c51b7d"
            ],
            [
             0.2,
             "#de77ae"
            ],
            [
             0.3,
             "#f1b6da"
            ],
            [
             0.4,
             "#fde0ef"
            ],
            [
             0.5,
             "#f7f7f7"
            ],
            [
             0.6,
             "#e6f5d0"
            ],
            [
             0.7,
             "#b8e186"
            ],
            [
             0.8,
             "#7fbc41"
            ],
            [
             0.9,
             "#4d9221"
            ],
            [
             1,
             "#276419"
            ]
           ],
           "sequential": [
            [
             0,
             "#0d0887"
            ],
            [
             0.1111111111111111,
             "#46039f"
            ],
            [
             0.2222222222222222,
             "#7201a8"
            ],
            [
             0.3333333333333333,
             "#9c179e"
            ],
            [
             0.4444444444444444,
             "#bd3786"
            ],
            [
             0.5555555555555556,
             "#d8576b"
            ],
            [
             0.6666666666666666,
             "#ed7953"
            ],
            [
             0.7777777777777778,
             "#fb9f3a"
            ],
            [
             0.8888888888888888,
             "#fdca26"
            ],
            [
             1,
             "#f0f921"
            ]
           ],
           "sequentialminus": [
            [
             0,
             "#0d0887"
            ],
            [
             0.1111111111111111,
             "#46039f"
            ],
            [
             0.2222222222222222,
             "#7201a8"
            ],
            [
             0.3333333333333333,
             "#9c179e"
            ],
            [
             0.4444444444444444,
             "#bd3786"
            ],
            [
             0.5555555555555556,
             "#d8576b"
            ],
            [
             0.6666666666666666,
             "#ed7953"
            ],
            [
             0.7777777777777778,
             "#fb9f3a"
            ],
            [
             0.8888888888888888,
             "#fdca26"
            ],
            [
             1,
             "#f0f921"
            ]
           ]
          },
          "colorway": [
           "#636efa",
           "#EF553B",
           "#00cc96",
           "#ab63fa",
           "#FFA15A",
           "#19d3f3",
           "#FF6692",
           "#B6E880",
           "#FF97FF",
           "#FECB52"
          ],
          "font": {
           "color": "#f2f5fa"
          },
          "geo": {
           "bgcolor": "rgb(17,17,17)",
           "lakecolor": "rgb(17,17,17)",
           "landcolor": "rgb(17,17,17)",
           "showlakes": true,
           "showland": true,
           "subunitcolor": "#506784"
          },
          "hoverlabel": {
           "align": "left"
          },
          "hovermode": "closest",
          "mapbox": {
           "style": "dark"
          },
          "paper_bgcolor": "rgb(17,17,17)",
          "plot_bgcolor": "rgb(17,17,17)",
          "polar": {
           "angularaxis": {
            "gridcolor": "#506784",
            "linecolor": "#506784",
            "ticks": ""
           },
           "bgcolor": "rgb(17,17,17)",
           "radialaxis": {
            "gridcolor": "#506784",
            "linecolor": "#506784",
            "ticks": ""
           }
          },
          "scene": {
           "xaxis": {
            "backgroundcolor": "rgb(17,17,17)",
            "gridcolor": "#506784",
            "gridwidth": 2,
            "linecolor": "#506784",
            "showbackground": true,
            "ticks": "",
            "zerolinecolor": "#C8D4E3"
           },
           "yaxis": {
            "backgroundcolor": "rgb(17,17,17)",
            "gridcolor": "#506784",
            "gridwidth": 2,
            "linecolor": "#506784",
            "showbackground": true,
            "ticks": "",
            "zerolinecolor": "#C8D4E3"
           },
           "zaxis": {
            "backgroundcolor": "rgb(17,17,17)",
            "gridcolor": "#506784",
            "gridwidth": 2,
            "linecolor": "#506784",
            "showbackground": true,
            "ticks": "",
            "zerolinecolor": "#C8D4E3"
           }
          },
          "shapedefaults": {
           "line": {
            "color": "#f2f5fa"
           }
          },
          "sliderdefaults": {
           "bgcolor": "#C8D4E3",
           "bordercolor": "rgb(17,17,17)",
           "borderwidth": 1,
           "tickwidth": 0
          },
          "ternary": {
           "aaxis": {
            "gridcolor": "#506784",
            "linecolor": "#506784",
            "ticks": ""
           },
           "baxis": {
            "gridcolor": "#506784",
            "linecolor": "#506784",
            "ticks": ""
           },
           "bgcolor": "rgb(17,17,17)",
           "caxis": {
            "gridcolor": "#506784",
            "linecolor": "#506784",
            "ticks": ""
           }
          },
          "title": {
           "x": 0.05
          },
          "updatemenudefaults": {
           "bgcolor": "#506784",
           "borderwidth": 0
          },
          "xaxis": {
           "automargin": true,
           "gridcolor": "#283442",
           "linecolor": "#506784",
           "ticks": "",
           "title": {
            "standoff": 15
           },
           "zerolinecolor": "#283442",
           "zerolinewidth": 2
          },
          "yaxis": {
           "automargin": true,
           "gridcolor": "#283442",
           "linecolor": "#506784",
           "ticks": "",
           "title": {
            "standoff": 15
           },
           "zerolinecolor": "#283442",
           "zerolinewidth": 2
          }
         }
        },
        "uirevision": true
       }
      }
     },
     "metadata": {},
     "output_type": "display_data"
    }
   ],
   "source": [
    "# test file loading binary\n",
    "# loaded = project.load_from_binary_file(\"tmp/cube_project.npz\")\n",
    "\n",
    "# visualize_project(loaded, \"default\")"
   ]
  }
 ],
 "metadata": {
  "colab": {
   "provenance": []
  },
  "kernelspec": {
   "display_name": "Python 3",
   "name": "python3"
  },
  "language_info": {
   "codemirror_mode": {
    "name": "ipython",
    "version": 3
   },
   "file_extension": ".py",
   "mimetype": "text/x-python",
   "name": "python",
   "nbconvert_exporter": "python",
   "pygments_lexer": "ipython3",
   "version": "3.13.0"
  }
 },
 "nbformat": 4,
 "nbformat_minor": 0
}
